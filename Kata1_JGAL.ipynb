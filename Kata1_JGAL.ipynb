{
 "cells": [
  {
   "cell_type": "markdown",
   "metadata": {},
   "source": [
    "# Kata 1 Jesus Amezquita"
   ]
  },
  {
   "cell_type": "markdown",
   "metadata": {},
   "source": [
    "# Fecha de hoy"
   ]
  },
  {
   "cell_type": "code",
   "execution_count": 9,
   "metadata": {},
   "outputs": [
    {
     "name": "stdout",
     "output_type": "stream",
     "text": [
      "La fecha de hoy es: 2022-02-12\n"
     ]
    }
   ],
   "source": [
    "# Obtener fecha \n",
    "from datetime import date\n",
    "\n",
    "# Llamar funcion fecha de hoy\n",
    "date.today()\n",
    "\n",
    "# Imprimir la fecha como un string\n",
    "print(\"La fecha de hoy es: \" + str(date.today()))"
   ]
  },
  {
   "cell_type": "markdown",
   "metadata": {},
   "source": [
    "# Convertidor de parsecs\n",
    "Tomando en cuenta que 1 parsec es 3.26156 años luz"
   ]
  },
  {
   "cell_type": "code",
   "execution_count": 4,
   "metadata": {},
   "outputs": [
    {
     "name": "stdout",
     "output_type": "stream",
     "text": [
      "Convertidor de parsec a años luz\n",
      "4 parsec equivale a 13.04624 años luz.\n"
     ]
    }
   ],
   "source": [
    "# Titulo del programa\n",
    "print(\"Convertidor de parsec a años luz\")\n",
    "\n",
    "# Definición de variables\n",
    "parsec = input(\"Cantidad de parsec: \")\n",
    "lightyear = int(parsec) * 3.26156 \n",
    "\n",
    "# Impresión de resultado\n",
    "print(parsec + \" parsec equivale a \" + str(lightyear) + \" años luz.\")"
   ]
  }
 ],
 "metadata": {
  "interpreter": {
   "hash": "aee8b7b246df8f9039afb4144a1f6fd8d2ca17a180786b69acc140d282b71a49"
  },
  "kernelspec": {
   "display_name": "Python 3.10.2 64-bit",
   "language": "python",
   "name": "python3"
  },
  "language_info": {
   "codemirror_mode": {
    "name": "ipython",
    "version": 3
   },
   "file_extension": ".py",
   "mimetype": "text/x-python",
   "name": "python",
   "nbconvert_exporter": "python",
   "pygments_lexer": "ipython3",
   "version": "3.10.2"
  },
  "orig_nbformat": 4
 },
 "nbformat": 4,
 "nbformat_minor": 2
}
