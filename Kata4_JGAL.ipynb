{
 "cells": [
  {
   "cell_type": "code",
   "execution_count": 1,
   "metadata": {},
   "outputs": [],
   "source": [
    "# Kata 4 - trabajando con cadenas\n",
    "# Jesús Gabriel Amézquita Lucio"
   ]
  },
  {
   "cell_type": "markdown",
   "metadata": {},
   "source": [
    "# Ejercicio 1: Transformar cadenas\n",
    "Hay varias operaciones que puedes realizar en las cadenas cuando las manipulamos. En este ejercicio, usarás métodos de cadena para modificar el texto con hechos sobre la Luna y luego extraerás información para crear un breve resumen.\n",
    "\n",
    "> **Nota**\n",
    "> Dedica unos minutos a tratar de encontrar una solución. Luego desplázate hacia abajo hasta la parte inferior para ver si has logrado compilar el programa de acuerdo con las especificaciones."
   ]
  },
  {
   "cell_type": "markdown",
   "metadata": {},
   "source": [
    "El texto con el que trabajarás es el siguiente: "
   ]
  },
  {
   "cell_type": "code",
   "execution_count": 2,
   "metadata": {},
   "outputs": [],
   "source": [
    "text = \"\"\"Interesting facts about the Moon. The Moon is Earth's only satellite. There are several interesting facts about the Moon and how it affects life here on Earth. \n",
    "On average, the Moon moves 4cm away from the Earth every year. This yearly drift is not significant enough to cause immediate effects on Earth. The highest daylight temperature of the Moon is 127 C.\"\"\""
   ]
  },
  {
   "cell_type": "markdown",
   "metadata": {},
   "source": [
    "Primero, divide el texto en cada oración para trabajar con su contenido:"
   ]
  },
  {
   "cell_type": "code",
   "execution_count": 3,
   "metadata": {},
   "outputs": [],
   "source": [
    "# Añade el código necesario\n",
    "lowertext = text.lower()\n",
    "facts = lowertext.split(\".\")\n"
   ]
  },
  {
   "cell_type": "markdown",
   "metadata": {},
   "source": [
    "Ahora, define algunas palabras clave para búsqueda que te ayudarán a determinar si una oración contiene un hecho."
   ]
  },
  {
   "cell_type": "code",
   "execution_count": 4,
   "metadata": {},
   "outputs": [],
   "source": [
    "# Define las palabras pista: average, temperature y distance suenan bien\n",
    "average = \"average\"\n",
    "temperature = \"temperature\"\n",
    "distance = \"distance\""
   ]
  },
  {
   "cell_type": "markdown",
   "metadata": {},
   "source": [
    "Cre un bucle para imprimir solo datos sobre la Luna que estén relacionados con las palabras clave definidas anteriormente:"
   ]
  },
  {
   "cell_type": "code",
   "execution_count": 5,
   "metadata": {},
   "outputs": [
    {
     "name": "stdout",
     "output_type": "stream",
     "text": [
      " \n",
      "on average, the moon moves 4cm away from the earth every year\n",
      " the highest daylight temperature of the moon is 127 c\n"
     ]
    }
   ],
   "source": [
    "# Ciclo for para recorrer la cadena\n",
    "for i in facts:\n",
    "    if average in i:\n",
    "        print(i)\n",
    "        break\n",
    "for i in facts:\n",
    "    if temperature in i:\n",
    "        print(i)\n",
    "        break\n",
    "for i in facts:\n",
    "    if distance in i:\n",
    "        print(i)\n",
    "        break"
   ]
  },
  {
   "cell_type": "markdown",
   "metadata": {},
   "source": [
    "Finalmente, actualiza el bucle(ciclo) para cambiar _C_ a _Celsius_:"
   ]
  },
  {
   "cell_type": "code",
   "execution_count": 6,
   "metadata": {},
   "outputs": [
    {
     "name": "stdout",
     "output_type": "stream",
     "text": [
      " the highest daylight temperature of the moon is 127 Celsius\n"
     ]
    }
   ],
   "source": [
    "# Ciclo para cambiar C a Celsius\n",
    "for i in facts:\n",
    "    if temperature in i:\n",
    "        if i.endswith(\"c\"):\n",
    "            print(i.replace(\"c\",\"Celsius\"))\n",
    "            break"
   ]
  },
  {
   "cell_type": "markdown",
   "metadata": {},
   "source": [
    "> Recuerda: Lo importante es intentarlo, puedes auxiliarte de internet, libros, etc. El objetivo de una kata es la comprobación de la comprensión de la lección y su aplicación inmediata a la resolución de problemas. Go for it!"
   ]
  },
  {
   "cell_type": "markdown",
   "metadata": {},
   "source": [
    "# Ejercicio 2: Formateando Cadenas\n",
    "\n",
    "Saber cómo dar formato a las cadenas es esencial cuando se presenta información de un programa. Hay algunas maneras diferentes de lograr esto en Python. En este ejercicio, se utilizan variables que contienen datos clave sobre la gravedad en varias lunas y luego se utilizan para dar formato e imprimir la información.\n",
    "\n",
    "El formato tiene que acomodar información sobre otras lunas, por lo que debe ser genérico.\n",
    "\n",
    "En lugar de reemplazar las variables en una cadena larga como parte de un párrafo, utiliza la información para presentarla en un formato tabular. El resultado debería verse así:\n",
    "\n",
    "```\n",
    "Gravity Facts about Ganymede\n",
    "-------------------------------------------------------------------------------\n",
    "Planet Name: Mars\n",
    "Gravity on Ganymede: 1.4300000000000002 m/s2\n",
    "```"
   ]
  },
  {
   "cell_type": "code",
   "execution_count": 7,
   "metadata": {},
   "outputs": [],
   "source": [
    "# Datos con los que vas a trabajar\n",
    "name = \"Moon\"\n",
    "gravity = 0.00162 # in kms\n",
    "planet = \"Earth\""
   ]
  },
  {
   "cell_type": "markdown",
   "metadata": {},
   "source": [
    "Primero, crea un título para el texto. Debido a que este texto trata sobre la gravedad en la Tierra y la Luna, úsalo para crear un título significativo. Utiliza las variables en lugar de escribir."
   ]
  },
  {
   "cell_type": "code",
   "execution_count": 19,
   "metadata": {},
   "outputs": [],
   "source": [
    "# Creamos el título\n",
    "heading = \"facts about the earth and the moon's gravity\"\n",
    "title = heading.title()"
   ]
  },
  {
   "cell_type": "markdown",
   "metadata": {},
   "source": [
    "Ahora crea una plantilla de cadena multilínea para contener el resto de la información. En lugar de usar kilómetros, debes convertir la distancia a metros multiplicando por 1,000."
   ]
  },
  {
   "cell_type": "code",
   "execution_count": 20,
   "metadata": {},
   "outputs": [
    {
     "name": "stdout",
     "output_type": "stream",
     "text": [
      "Name of the planet: Moon\n",
      "Gravity on Earth: 1.62 meters\n"
     ]
    }
   ],
   "source": [
    "# Creamos la plantilla\n",
    "\n",
    "#Data\n",
    "name = \"Moon\"\n",
    "gravity = 0.00162 # in kms\n",
    "planet = \"Earth\"\n",
    "\n",
    "#Facts\n",
    "print(f\"Name of the planet: {name}\\nGravity on {planet}: {round(gravity * 1000,2)} meters\")"
   ]
  },
  {
   "cell_type": "markdown",
   "metadata": {},
   "source": [
    "Finalmente, usa ambas variables para unir el título y los hechos."
   ]
  },
  {
   "cell_type": "code",
   "execution_count": 21,
   "metadata": {},
   "outputs": [
    {
     "name": "stdout",
     "output_type": "stream",
     "text": [
      "\n",
      "_________________________________________________\n",
      "Facts About The Earth And The Moon'S Gravity\n",
      "_________________________________________________\n",
      "\n",
      "Name of the planet: Moon\n",
      "Gravity on Earth: 1.62 meters\n"
     ]
    }
   ],
   "source": [
    "# Unión de ambas cadenas\n",
    "\n",
    "#Data\n",
    "heading = \"facts about the earth and the moon's gravity\"\n",
    "name = \"Moon\"\n",
    "gravity = 0.00162 # in kms\n",
    "planet = \"Earth\"\n",
    "\n",
    "#Title\n",
    "title = heading.title()\n",
    "print(\"\\n_________________________________________________\\n\"+title+\"\\n_________________________________________________\\n\")\n",
    "#Facts\n",
    "print(f\"Name of the planet: {name}\\nGravity on {planet}: {round(gravity * 1000,2)} meters\")"
   ]
  },
  {
   "cell_type": "markdown",
   "metadata": {},
   "source": [
    "Ahora usa información de una luna diferente para ver si la plantilla todavía funciona.\n",
    "\n",
    "Datos muestra: \n",
    "```\n",
    "planeta = 'Marte '\n",
    "gravedad  = 0.00143\n",
    "nombre = 'Ganímedes'\n",
    "```"
   ]
  },
  {
   "cell_type": "code",
   "execution_count": 24,
   "metadata": {},
   "outputs": [
    {
     "name": "stdout",
     "output_type": "stream",
     "text": [
      "Astronomy facts template\n",
      "\n",
      "_________________________________________________\n",
      "Facts About The Earth And The Moon'S Gravity\n",
      "_________________________________________________\n",
      "\n",
      "Name of the planet: Ganímedes\n",
      "Gravity on Marte: 1.43 meters\n"
     ]
    }
   ],
   "source": [
    "# Comprueba la plantilla\n",
    "\n",
    "print(\"Astronomy facts template\")\n",
    "\n",
    "#Data\n",
    "heading = \"facts about the earth and the moon's gravity\"\n",
    "name = \"Ganímedes\"\n",
    "gravity = 0.00143 # in kms\n",
    "planet = \"Marte\"\n",
    "\n",
    "#Title\n",
    "title = heading.title()\n",
    "print(\"\\n_________________________________________________\\n\"+title+\"\\n_________________________________________________\\n\")\n",
    "#Facts\n",
    "print(f\"Name of the planet: {name}\\nGravity on {planet}: {round(gravity * 1000,2)} meters\")"
   ]
  },
  {
   "cell_type": "markdown",
   "metadata": {},
   "source": [
    "La salida no muestra información sobre Marte. Todavía muestra información sobre la Luna. Esto sucede porque las cadenas f están ansiosas en su evaluación, por lo que las variables una vez asignadas no se pueden reasignar. Para evitar este problema, vuelva a hacer la plantilla para utilizar .format():"
   ]
  },
  {
   "cell_type": "code",
   "execution_count": 1,
   "metadata": {},
   "outputs": [
    {
     "name": "stdout",
     "output_type": "stream",
     "text": [
      "\n",
      "\n",
      "_________________________________________________\n",
      " Facts About The Earth And The Moon'S Gravity \n",
      "_________________________________________________\n",
      "\n",
      "Name of the planet: Ganímedes\n",
      "Gravity on Marte: 1.43 meters\n",
      "\n"
     ]
    }
   ],
   "source": [
    "# Nueva plantilla\n",
    "\n",
    "#Data\n",
    "heading = \"facts about mars and its moon's gravity\"\n",
    "name = \"Ganímedes\"\n",
    "gravity = 0.00143 # in kms\n",
    "planet = \"Marte\"\n",
    "\n",
    "#Title\n",
    "title = heading.title()\n",
    "\n",
    "print(\"\"\"\n",
    "\\n_________________________________________________\\n {title} \\n_________________________________________________\\n\n",
    "Name of the planet: {name}\\nGravity on {planet}: {gravity} meters\n",
    "\"\"\".format(title = title, name = name, planet = planet, gravity = round(gravity * 1000,2)))"
   ]
  },
  {
   "cell_type": "markdown",
   "metadata": {},
   "source": [
    "Debido a que .format() no permite expresiones, la gravedad en Ganímedes es incorrecta. Asegúrese de que la operación se realiza fuera de la plantilla de formato e imprima de nuevo para ver el resultado de trabajo."
   ]
  },
  {
   "cell_type": "code",
   "execution_count": 8,
   "metadata": {},
   "outputs": [
    {
     "name": "stdout",
     "output_type": "stream",
     "text": [
      "\n",
      "\n",
      "_________________________________________________\n",
      " Facts About Mars And Its Moon'S Gravity \n",
      "_________________________________________________\n",
      "\n",
      "Name of the planet: Ganímedes\n",
      "Gravity on Marte: 1.43 meters\n",
      "\n"
     ]
    }
   ],
   "source": [
    "# Pista: print(nueva_plantilla.format(variables))\n",
    "\n",
    "#Data\n",
    "heading = \"facts about mars and its moon's gravity\"\n",
    "name = \"Ganímedes\"\n",
    "gravity = 0.00143 # in kms\n",
    "planet = \"Marte\"\n",
    "\n",
    "#Template\n",
    "title = heading.title()\n",
    "template = \"\"\"\n",
    "\\n_________________________________________________\\n {title} \\n_________________________________________________\\n\n",
    "Name of the planet: {name}\\nGravity on {planet}: {gravity} meters\n",
    "\"\"\"\n",
    "\n",
    "print(template.format(title = title, name = name, planet = planet, gravity = round(gravity * 1000,2)))"
   ]
  }
 ],
 "metadata": {
  "interpreter": {
   "hash": "aee8b7b246df8f9039afb4144a1f6fd8d2ca17a180786b69acc140d282b71a49"
  },
  "kernelspec": {
   "display_name": "Python 3.10.2 64-bit",
   "language": "python",
   "name": "python3"
  },
  "language_info": {
   "codemirror_mode": {
    "name": "ipython",
    "version": 3
   },
   "file_extension": ".py",
   "mimetype": "text/x-python",
   "name": "python",
   "nbconvert_exporter": "python",
   "pygments_lexer": "ipython3",
   "version": "3.10.2"
  },
  "orig_nbformat": 4
 },
 "nbformat": 4,
 "nbformat_minor": 2
}
