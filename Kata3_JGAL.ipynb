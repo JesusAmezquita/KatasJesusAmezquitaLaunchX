{
 "cells": [
  {
   "cell_type": "markdown",
   "metadata": {},
   "source": [
    "# Kata 3 Condicionales"
   ]
  },
  {
   "cell_type": "markdown",
   "metadata": {},
   "source": [
    "# Añadir el código necesario para crear una variable que guarde la velocidad del asteroide.\n",
    "# Escribe una expresión de prueba para calcular si necesita una advertencia.\n",
    "# Agregue las instrucciones que se ejecutarán si la expresión de prueba es true o false."
   ]
  },
  {
   "cell_type": "code",
   "execution_count": 1,
   "metadata": {},
   "outputs": [
    {
     "name": "stdout",
     "output_type": "stream",
     "text": [
      "Medidor de advertencia de asteroide\n",
      "La velocidad del asteroide es muy alta\n"
     ]
    }
   ],
   "source": [
    "# Titulo del programa\n",
    "print(\"Medidor de advertencia de asteroide\")\n",
    "\n",
    "# Definición de variables\n",
    "# Velocidad del primer asteroide en km/s\n",
    "asteroid1Speed = 49\n",
    "\n",
    "# Advertencia cuando la velocidad del asteroide es mayor a 25 km/s\n",
    "if asteroid1Speed > 25:\n",
    "    warning = True\n",
    "else:\n",
    "    warning = False\n",
    "\n",
    "if warning: \n",
    "    print(\"La velocidad del asteroide es muy alta\")\n",
    "else:\n",
    "    print(\"Todo OK\")"
   ]
  },
  {
   "cell_type": "markdown",
   "metadata": {},
   "source": [
    "# Agrega el código para crear una variable para un asteroide que viaja a 19 km/s\n",
    "# Escribe varias expresiones de prueba para determinar si puedes ver el rayo de luz desde la tierra\n",
    "# Agrega las instrucciones que se ejecutarán si las expresiones de prueba son True o False"
   ]
  },
  {
   "cell_type": "code",
   "execution_count": 7,
   "metadata": {},
   "outputs": [
    {
     "name": "stdout",
     "output_type": "stream",
     "text": [
      "Medidor de advertencia y visibilidad de asteroide\n",
      "Todo OK\n"
     ]
    }
   ],
   "source": [
    "# Titulo del programa\n",
    "print(\"Medidor de advertencia y visibilidad de asteroide\")\n",
    "\n",
    "# Velocidad del segundo asteroide en km/s\n",
    "asteroid2Speed = 19\n",
    "\n",
    "# Lógicas condicionales\n",
    "if asteroid2Speed > 25:\n",
    "    warning = True\n",
    "    visibility = True\n",
    "elif asteroid2Speed >= 20 and asteroid2Speed <= 25:\n",
    "    warning = False\n",
    "    visibility = True\n",
    "else:\n",
    "    warning = False\n",
    "    visibility = False\n",
    "\n",
    "# Imprimir mensajes\n",
    "if warning:\n",
    "    print(\"La velocidad del asteroide es muy alta\")\n",
    "if visibility:\n",
    "    print(\"El rayo de luz del asteroide se puede ver desde la Tierra\")\n",
    "if not warning and not visibility:\n",
    "    print(\"Todo OK\")\n"
   ]
  },
  {
   "cell_type": "markdown",
   "metadata": {},
   "source": [
    "# Agrega el código para crear nuevas variables para la velocidad y el tamaño del asteroide\n",
    "# Para probar el código, prueba con varias velocidades y tamaños\n",
    "# Escribe varias expresiones de prueba o combinaciones de expresiones de prueba para determinar qué mensaje se debe enviar a Tierra."
   ]
  },
  {
   "cell_type": "code",
   "execution_count": 7,
   "metadata": {},
   "outputs": [
    {
     "name": "stdout",
     "output_type": "stream",
     "text": [
      "Medidor de advertencia, longitud y visibilidad de asteroide\n",
      "La velocidad del asteroide es muy alta\n",
      "La longitud del asteroide puede puede causar mucho daño a la Tierra\n",
      "El rayo de luz del asteroide se puede ver desde la Tierra\n"
     ]
    }
   ],
   "source": [
    "# Titulo del programa\n",
    "print(\"Medidor de advertencia, longitud y visibilidad de asteroide\")\n",
    "\n",
    "# Velocidad del tercer asteroide en km/s\n",
    "asteroid3Speed = 26\n",
    "# Longitud del tercer asteroide en metros\n",
    "asteroid3Length = 500\n",
    "\n",
    "# Lógicas condicionales para la velocidad, longitud y visibilidad\n",
    "if asteroid3Speed > 25:\n",
    "    warningSpeed = True\n",
    "    visibility = True\n",
    "    if (asteroid3Length > 25 and asteroid3Length < 1000):\n",
    "        warningLength = True\n",
    "    elif asteroid3Length <= 25 or asteroid3Length >= 1000:\n",
    "        warningLength = False\n",
    "elif asteroid3Speed >= 20 and asteroid3Speed <= 25:\n",
    "    warningSpeed = False\n",
    "    visibility = True\n",
    "    if (asteroid3Length > 25 and asteroid3Length < 1000):\n",
    "        warningLength = True\n",
    "    elif asteroid3Length <= 25 or asteroid3Length >= 1000:\n",
    "        warningLength = False\n",
    "else:\n",
    "    warningSpeed = False\n",
    "    warningLength = False\n",
    "    visibility = False\n",
    "\n",
    "\n",
    "\n",
    "# Imprimir mensajes\n",
    "if warningSpeed:\n",
    "    print(\"La velocidad del asteroide es muy alta\")\n",
    "if warningLength:\n",
    "    print(\"La longitud del asteroide puede puede causar mucho daño a la Tierra\")\n",
    "if visibility:\n",
    "    print(\"El rayo de luz del asteroide se puede ver desde la Tierra\")\n",
    "if not warningSpeed and not visibility and not warningLength:\n",
    "    print(\"Todo OK\")"
   ]
  }
 ],
 "metadata": {
  "interpreter": {
   "hash": "aee8b7b246df8f9039afb4144a1f6fd8d2ca17a180786b69acc140d282b71a49"
  },
  "kernelspec": {
   "display_name": "Python 3.10.2 64-bit",
   "language": "python",
   "name": "python3"
  },
  "language_info": {
   "codemirror_mode": {
    "name": "ipython",
    "version": 3
   },
   "file_extension": ".py",
   "mimetype": "text/x-python",
   "name": "python",
   "nbconvert_exporter": "python",
   "pygments_lexer": "ipython3",
   "version": "3.10.2"
  },
  "orig_nbformat": 4
 },
 "nbformat": 4,
 "nbformat_minor": 2
}
